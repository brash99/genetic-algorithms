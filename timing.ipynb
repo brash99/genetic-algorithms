{
 "cells": [
  {
   "cell_type": "code",
   "execution_count": 26,
   "id": "initial_id",
   "metadata": {
    "collapsed": true,
    "ExecuteTime": {
     "end_time": "2023-11-14T02:39:35.471776Z",
     "start_time": "2023-11-14T02:39:35.465934Z"
    }
   },
   "outputs": [],
   "source": [
    "import pandas as pd\n",
    "import numpy as np\n",
    "import matplotlib.pyplot as plt"
   ]
  },
  {
   "cell_type": "code",
   "execution_count": 28,
   "outputs": [
    {
     "data": {
      "text/plain": "   n      time\n0  0  0.000002\n1  1  0.000004\n2  2  0.000006\n3  3  0.000006\n4  4  0.000008",
      "text/html": "<div>\n<style scoped>\n    .dataframe tbody tr th:only-of-type {\n        vertical-align: middle;\n    }\n\n    .dataframe tbody tr th {\n        vertical-align: top;\n    }\n\n    .dataframe thead th {\n        text-align: right;\n    }\n</style>\n<table border=\"1\" class=\"dataframe\">\n  <thead>\n    <tr style=\"text-align: right;\">\n      <th></th>\n      <th>n</th>\n      <th>time</th>\n    </tr>\n  </thead>\n  <tbody>\n    <tr>\n      <th>0</th>\n      <td>0</td>\n      <td>0.000002</td>\n    </tr>\n    <tr>\n      <th>1</th>\n      <td>1</td>\n      <td>0.000004</td>\n    </tr>\n    <tr>\n      <th>2</th>\n      <td>2</td>\n      <td>0.000006</td>\n    </tr>\n    <tr>\n      <th>3</th>\n      <td>3</td>\n      <td>0.000006</td>\n    </tr>\n    <tr>\n      <th>4</th>\n      <td>4</td>\n      <td>0.000008</td>\n    </tr>\n  </tbody>\n</table>\n</div>"
     },
     "execution_count": 28,
     "metadata": {},
     "output_type": "execute_result"
    }
   ],
   "source": [
    "dfb = pd.read_csv('/Users/brash/phys441/JupyterNotebooks/Week12/genetic-algorithms/bruteforce.dat', sep='\\t', header=None)\n",
    "dfb.columns = ['n', 'time']\n",
    "dfb.head()"
   ],
   "metadata": {
    "collapsed": false,
    "ExecuteTime": {
     "end_time": "2023-11-14T02:40:32.428927Z",
     "start_time": "2023-11-14T02:40:32.416012Z"
    }
   },
   "id": "7b12e99de93772d4"
  },
  {
   "cell_type": "code",
   "execution_count": 31,
   "outputs": [
    {
     "data": {
      "text/plain": "   n  generations      time  fitness chromosome\n0  2            0  0.000051  100.00%         11\n1  3            2  0.000193  100.00%        111\n2  4            1  0.000094  100.00%       1111\n3  5            0  0.000031  100.00%      11111\n4  6            0  0.000031  100.00%     111111",
      "text/html": "<div>\n<style scoped>\n    .dataframe tbody tr th:only-of-type {\n        vertical-align: middle;\n    }\n\n    .dataframe tbody tr th {\n        vertical-align: top;\n    }\n\n    .dataframe thead th {\n        text-align: right;\n    }\n</style>\n<table border=\"1\" class=\"dataframe\">\n  <thead>\n    <tr style=\"text-align: right;\">\n      <th></th>\n      <th>n</th>\n      <th>generations</th>\n      <th>time</th>\n      <th>fitness</th>\n      <th>chromosome</th>\n    </tr>\n  </thead>\n  <tbody>\n    <tr>\n      <th>0</th>\n      <td>2</td>\n      <td>0</td>\n      <td>0.000051</td>\n      <td>100.00%</td>\n      <td>11</td>\n    </tr>\n    <tr>\n      <th>1</th>\n      <td>3</td>\n      <td>2</td>\n      <td>0.000193</td>\n      <td>100.00%</td>\n      <td>111</td>\n    </tr>\n    <tr>\n      <th>2</th>\n      <td>4</td>\n      <td>1</td>\n      <td>0.000094</td>\n      <td>100.00%</td>\n      <td>1111</td>\n    </tr>\n    <tr>\n      <th>3</th>\n      <td>5</td>\n      <td>0</td>\n      <td>0.000031</td>\n      <td>100.00%</td>\n      <td>11111</td>\n    </tr>\n    <tr>\n      <th>4</th>\n      <td>6</td>\n      <td>0</td>\n      <td>0.000031</td>\n      <td>100.00%</td>\n      <td>111111</td>\n    </tr>\n  </tbody>\n</table>\n</div>"
     },
     "execution_count": 31,
     "metadata": {},
     "output_type": "execute_result"
    }
   ],
   "source": [
    "dfg = pd.read_csv('/Users/brash/phys441/JupyterNotebooks/Week12/genetic-algorithms/genetic.dat', sep='\\t', header=None)\n",
    "dfg.columns = ['n', 'generations','time','fitness','chromosome']\n",
    "dfg.head()"
   ],
   "metadata": {
    "collapsed": false,
    "ExecuteTime": {
     "end_time": "2023-11-14T02:41:36.274974Z",
     "start_time": "2023-11-14T02:41:36.248786Z"
    }
   },
   "id": "738931d5bae921e8"
  },
  {
   "cell_type": "code",
   "execution_count": 34,
   "outputs": [
    {
     "data": {
      "text/plain": "<Figure size 640x480 with 1 Axes>",
      "image/png": "[encoded data removed]"
     },
     "metadata": {},
     "output_type": "display_data"
    }
   ],
   "source": [
    "plt.plot(dfb['n'], dfb['time'], label='Brute Force')\n",
    "plt.plot(dfg['n'], dfg['time'], label='Genetic')\n",
    "plt.xlabel('n')\n",
    "plt.ylabel('time (s)')\n",
    "#plt.yscale('log')\n",
    "plt.legend()\n",
    "plt.show()"
   ],
   "metadata": {
    "collapsed": false,
    "ExecuteTime": {
     "end_time": "2023-11-14T02:42:33.558373Z",
     "start_time": "2023-11-14T02:42:33.407950Z"
    }
   },
   "id": "82c1815f6637863f"
  },
  {
   "cell_type": "code",
   "execution_count": null,
   "outputs": [],
   "source": [],
   "metadata": {
    "collapsed": false
   },
   "id": "6cdeed0633a1ce10"
  }
 ],
 "metadata": {
  "kernelspec": {
   "display_name": "Python 3",
   "language": "python",
   "name": "python3"
  },
  "language_info": {
   "codemirror_mode": {
    "name": "ipython",
    "version": 2
   },
   "file_extension": ".py",
   "mimetype": "text/x-python",
   "name": "python",
   "nbconvert_exporter": "python",
   "pygments_lexer": "ipython2",
   "version": "2.7.6"
  }
 },
 "nbformat": 4,
 "nbformat_minor": 5
}
